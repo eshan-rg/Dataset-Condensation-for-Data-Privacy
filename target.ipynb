{
  "cells": [
    {
      "cell_type": "code",
      "execution_count": 1,
      "metadata": {
        "id": "uERS5-dXonV0"
      },
      "outputs": [],
      "source": [
        "from __future__ import print_function\n",
        "import numpy as np\n",
        "import keras\n",
        "from sklearn.model_selection import train_test_split\n",
        "from keras.models import Model\n",
        "\n",
        "import keras.backend as K\n",
        "\n",
        "from model import Model\n",
        "K.clear_session()"
      ]
    },
    {
      "cell_type": "code",
      "execution_count": 2,
      "metadata": {
        "id": "VAgr-QCGonV2"
      },
      "outputs": [],
      "source": [
        "#Model parameters for target model\n",
        "batch_size = 128\n",
        "epochs = 100\n",
        "lrate = 0.001\n",
        "decay = 1e-7\n",
        "num_classes = 10\n",
        "#initializer in each layer - upto us"
      ]
    },
    {
      "cell_type": "code",
      "execution_count": null,
      "metadata": {},
      "outputs": [],
      "source": [
        "use_condensed = False"
      ]
    },
    {
      "cell_type": "code",
      "execution_count": 3,
      "metadata": {
        "id": "fu2wBOAfonV3"
      },
      "outputs": [],
      "source": [
        "X_target = np.load('data/X_target.npy')\n",
        "y_target = np.load('data/y_target.npy')\n",
        "y_target_not_one_hot = y_target.copy()\n",
        "y_target = keras.utils.to_categorical(y_target, num_classes)\n",
        "\n",
        "X_member, X_nonmember, y_member, y_nonmember = train_test_split(X_target, y_target, test_size=0.5, random_state=42)"
      ]
    },
    {
      "cell_type": "code",
      "execution_count": null,
      "metadata": {},
      "outputs": [],
      "source": [
        "if use_condensed:\n",
        "    X_target_condensed = np.load('data/X_target_condensed.npy')\n",
        "    y_target_condensed = np.load('data/y_target_condensed.npy')"
      ]
    },
    {
      "cell_type": "code",
      "execution_count": 4,
      "metadata": {},
      "outputs": [],
      "source": [
        "target = Model(input_shape=X_target.shape[1:], num_classes=num_classes)"
      ]
    },
    {
      "cell_type": "code",
      "execution_count": 6,
      "metadata": {},
      "outputs": [
        {
          "name": "stdout",
          "output_type": "stream",
          "text": [
            "Training accuracy = 0.996333\n",
            "Validation accuracy = 0.975333\n"
          ]
        }
      ],
      "source": [
        "if use_condensed:\n",
        "    target.train(X_target_condensed, y_target_condensed, batch_size, epochs, lrate, decay, X_nonmember, y_nonmember)\n",
        "else:\n",
        "    target.train(X_member, y_member, batch_size, epochs, lrate, decay, X_nonmember, y_nonmember)\n",
        "target.eval()"
      ]
    },
    {
      "cell_type": "code",
      "execution_count": 11,
      "metadata": {
        "id": "4milvNnXqssx"
      },
      "outputs": [],
      "source": [
        "if use_condensed:\n",
        "    filepath = 'models/mnist_target_condensed.h5'\n",
        "else:\n",
        "    filepath = 'models/mnist_target.h5'\n",
        "target.save(filepath)"
      ]
    },
    {
      "cell_type": "code",
      "execution_count": 22,
      "metadata": {},
      "outputs": [
        {
          "name": "stdout",
          "output_type": "stream",
          "text": [
            "469/469 [==============================] - 2s 4ms/step\n",
            "469/469 [==============================] - 2s 3ms/step\n"
          ]
        }
      ],
      "source": [
        "# For evaluation of attack model\n",
        "y_pred_member = target.predict(X_member)\n",
        "y_pred_non_member = target.predict(X_nonmember)\n",
        "labels_attack_test = np.vstack((y_member,y_nonmember))\n",
        "X_attack_test = np.vstack((y_pred_member, y_pred_non_member))\n",
        "y_attack_test = np.zeros(X_attack_test.shape[0])\n",
        "y_attack_test[:y_pred_member.shape[0]] = 1"
      ]
    },
    {
      "cell_type": "code",
      "execution_count": 23,
      "metadata": {},
      "outputs": [],
      "source": [
        "X_attack_test_dict = {'X_attack_test':X_attack_test,'y_attack_test':y_attack_test,'labels_attack_test':labels_attack_test}\n",
        "if use_condensed:\n",
        "    fname = 'data/attack_test_data_condensed.npy'\n",
        "else:\n",
        "    fname = 'data/attack_test_data'\n",
        "np.save(fname,X_attack_test_dict)"
      ]
    }
  ],
  "metadata": {
    "accelerator": "GPU",
    "colab": {
      "provenance": []
    },
    "gpuClass": "standard",
    "kernelspec": {
      "display_name": "Python 3.9.7 ('ml')",
      "language": "python",
      "name": "python3"
    },
    "language_info": {
      "codemirror_mode": {
        "name": "ipython",
        "version": 3
      },
      "file_extension": ".py",
      "mimetype": "text/x-python",
      "name": "python",
      "nbconvert_exporter": "python",
      "pygments_lexer": "ipython3",
      "version": "3.9.7"
    },
    "orig_nbformat": 4,
    "vscode": {
      "interpreter": {
        "hash": "ae3781f4100a8205368ceace92c3e8824fe09544b5c746a9520d671a4b158048"
      }
    }
  },
  "nbformat": 4,
  "nbformat_minor": 0
}
