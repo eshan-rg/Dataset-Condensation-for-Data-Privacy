{
 "cells": [
  {
   "cell_type": "code",
   "execution_count": 11,
   "metadata": {},
   "outputs": [],
   "source": [
    "import tensorflow.keras.datasets as tfds\n",
    "import numpy as np"
   ]
  },
  {
   "cell_type": "code",
   "execution_count": 2,
   "metadata": {},
   "outputs": [],
   "source": [
    "(X_train, y_train), (X_test, y_test) = tfds.mnist.load_data()"
   ]
  },
  {
   "cell_type": "code",
   "execution_count": 10,
   "metadata": {},
   "outputs": [
    {
     "name": "stdout",
     "output_type": "stream",
     "text": [
      "(30000, 28, 28) (30000, 28, 28) (30000,) (30000,)\n"
     ]
    }
   ],
   "source": [
    "X_target = X_train[:X_train.shape[0]//2]\n",
    "X_attack = X_train[X_train.shape[0]//2:]\n",
    "y_target = y_train[:y_train.shape[0]//2]\n",
    "y_attack = y_train[y_train.shape[0]//2:]\n",
    "\n",
    "print(X_target.shape, X_attack.shape, y_target.shape, y_attack.shape)"
   ]
  },
  {
   "cell_type": "code",
   "execution_count": 13,
   "metadata": {},
   "outputs": [],
   "source": [
    "np.save('data/X_target.npy', X_target)\n",
    "np.save('data/X_attack.npy', X_attack)\n",
    "np.save('data/y_target.npy', y_target)\n",
    "np.save('data/y_attack.npy', y_attack)\n",
    "np.save('data/X_test.npy', X_test)\n",
    "np.save('data/y_test.npy', y_test)"
   ]
  },
  {
   "cell_type": "code",
   "execution_count": null,
   "metadata": {},
   "outputs": [],
   "source": []
  }
 ],
 "metadata": {
  "kernelspec": {
   "display_name": "Python 3.9.7 ('ml')",
   "language": "python",
   "name": "python3"
  },
  "language_info": {
   "codemirror_mode": {
    "name": "ipython",
    "version": 3
   },
   "file_extension": ".py",
   "mimetype": "text/x-python",
   "name": "python",
   "nbconvert_exporter": "python",
   "pygments_lexer": "ipython3",
   "version": "3.9.7"
  },
  "orig_nbformat": 4,
  "vscode": {
   "interpreter": {
    "hash": "ae3781f4100a8205368ceace92c3e8824fe09544b5c746a9520d671a4b158048"
   }
  }
 },
 "nbformat": 4,
 "nbformat_minor": 2
}
