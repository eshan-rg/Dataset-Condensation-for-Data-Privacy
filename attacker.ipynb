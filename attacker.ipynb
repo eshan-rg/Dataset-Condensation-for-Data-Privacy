{
  "cells": [
    {
      "cell_type": "code",
      "execution_count": 55,
      "metadata": {
        "id": "zNjaqOCe2oeq"
      },
      "outputs": [],
      "source": [
        "from __future__ import print_function\n",
        "import numpy as np\n",
        "# import tensorflow as tf\n",
        "import keras\n",
        "# import matplotlib.pyplot as plt\n",
        "# %matplotlib inline\n",
        "from sklearn.metrics import average_precision_score\n",
        "from sklearn.model_selection import train_test_split\n",
        "from keras.models import Model\n",
        "from sklearn import svm\n",
        "from sklearn.model_selection import KFold\n",
        "from sklearn.metrics import precision_recall_fscore_support\n",
        "import pickle\n",
        "from sklearn.linear_model import LogisticRegression\n",
        "from keras import regularizers\n",
        "\n",
        "import keras.backend as K\n",
        "\n",
        "from model import Model\n",
        "K.clear_session()"
      ]
    },
    {
      "cell_type": "code",
      "execution_count": 72,
      "metadata": {
        "id": "rIKAMAoh2oet"
      },
      "outputs": [],
      "source": [
        "num_classes = 10\n",
        "ns = 10 # number of shadow models\n",
        "ds = 15000 # number of data points per shadow model for training\n",
        "batch_size = 128\n",
        "epochs = 100\n",
        "lrate = 0.001\n",
        "decay = 1e-7"
      ]
    },
    {
      "cell_type": "code",
      "execution_count": 57,
      "metadata": {
        "colab": {
          "base_uri": "https://localhost:8080/"
        },
        "id": "2sPGxOaW2oeu",
        "outputId": "6c2e6d72-aa6f-48e4-fb5b-d2f54f761827"
      },
      "outputs": [
        {
          "name": "stdout",
          "output_type": "stream",
          "text": [
            "(30000, 28, 28, 1) (30000, 10)\n"
          ]
        }
      ],
      "source": [
        "X_attack = np.load('data/X_attack.npy')\n",
        "y_attack = np.load('data/y_attack.npy')\n",
        "y_attack_not_one_hot = y_attack.copy()\n",
        "y_attack = keras.utils.to_categorical(y_attack, num_classes)\n",
        "\n",
        "print(X_attack.shape, y_attack.shape)"
      ]
    },
    {
      "cell_type": "code",
      "execution_count": 58,
      "metadata": {
        "colab": {
          "base_uri": "https://localhost:8080/"
        },
        "id": "vVuDVXp72oeu",
        "outputId": "7dafbe9d-3447-4013-9faf-0c276e1f7ade"
      },
      "outputs": [
        {
          "name": "stderr",
          "output_type": "stream",
          "text": [
            "2022-11-25 10:50:28.600637: I tensorflow/core/platform/cpu_feature_guard.cc:193] This TensorFlow binary is optimized with oneAPI Deep Neural Network Library (oneDNN) to use the following CPU instructions in performance-critical operations:  SSE4.1 SSE4.2 AVX AVX2 AVX512F FMA\n",
            "To enable them in other operations, rebuild TensorFlow with the appropriate compiler flags.\n",
            "2022-11-25 10:50:28.601679: I tensorflow/core/common_runtime/process_util.cc:146] Creating new thread pool with default inter op setting: 2. Tune using inter_op_parallelism_threads for best performance.\n"
          ]
        },
        {
          "name": "stdout",
          "output_type": "stream",
          "text": [
            "\n",
            "For shadow model 0\n",
            "Training accuracy = 1.000000\n",
            "Validation accuracy = 0.954000\n",
            "47/47 [==============================] - 1s 20ms/step\n",
            "47/47 [==============================] - 1s 20ms/step\n",
            "\n",
            "For shadow model 1\n",
            "Training accuracy = 1.000000\n",
            "Validation accuracy = 0.951333\n",
            "47/47 [==============================] - 1s 19ms/step\n",
            "47/47 [==============================] - 1s 28ms/step\n",
            "\n",
            "For shadow model 2\n",
            "Training accuracy = 1.000000\n",
            "Validation accuracy = 0.954667\n",
            "47/47 [==============================] - 1s 16ms/step\n",
            "47/47 [==============================] - 1s 11ms/step\n",
            "\n",
            "For shadow model 3\n",
            "Training accuracy = 1.000000\n",
            "Validation accuracy = 0.951333\n",
            "47/47 [==============================] - 0s 9ms/step\n",
            "47/47 [==============================] - 1s 16ms/step\n",
            "\n",
            "For shadow model 4\n",
            "Training accuracy = 1.000000\n",
            "Validation accuracy = 0.960667\n",
            "47/47 [==============================] - 1s 13ms/step\n",
            "47/47 [==============================] - 1s 22ms/step\n",
            "\n",
            "For shadow model 5\n",
            "Training accuracy = 1.000000\n",
            "Validation accuracy = 0.958000\n",
            "47/47 [==============================] - 1s 17ms/step\n",
            "47/47 [==============================] - 1s 10ms/step\n",
            "\n",
            "For shadow model 6\n",
            "Training accuracy = 1.000000\n",
            "Validation accuracy = 0.955333\n",
            "47/47 [==============================] - 1s 13ms/step\n",
            "47/47 [==============================] - 1s 10ms/step\n",
            "\n",
            "For shadow model 7\n",
            "Training accuracy = 1.000000\n",
            "Validation accuracy = 0.953333\n",
            "47/47 [==============================] - 1s 20ms/step\n",
            "47/47 [==============================] - 1s 17ms/step\n",
            "\n",
            "For shadow model 8\n",
            "Training accuracy = 1.000000\n",
            "Validation accuracy = 0.961333\n",
            "47/47 [==============================] - 2s 34ms/step\n",
            "47/47 [==============================] - 0s 10ms/step\n",
            "\n",
            "For shadow model 9\n",
            "Training accuracy = 1.000000\n",
            "Validation accuracy = 0.950000\n",
            "47/47 [==============================] - 0s 4ms/step\n",
            "47/47 [==============================] - 0s 4ms/step\n"
          ]
        }
      ],
      "source": [
        "X_train_attack = np.zeros((2*ds*ns,num_classes))\n",
        "y_train_attack = np.zeros((2*ds*ns,))\n",
        "labels_attack_train = np.zeros((2*ds*ns,num_classes))\n",
        "\n",
        "for j in np.arange(ns):\n",
        "    \n",
        "    indices = np.arange(X_attack.shape[0])\n",
        "    np.random.seed(j)\n",
        "    np.random.shuffle(indices)\n",
        "    X_member_shadow = X_attack[indices[:ds]]\n",
        "    y_member_shadow = y_attack[indices[:ds]]\n",
        "    X_nonmember_shadow = X_attack[indices[ds:2*ds]]\n",
        "    y_nonmember_shadow = y_attack[indices[ds:2*ds]]\n",
        "    \n",
        "    shadow = Model(input_shape=X_attack.shape[1:], num_classes=num_classes)\n",
        "    shadow.train(X_member_shadow, y_member_shadow, batch_size, epochs, lrate, decay, X_nonmember_shadow, y_nonmember_shadow)\n",
        "    print('\\nFor shadow model %d'%j)\n",
        "    shadow.eval()\n",
        "    model_name = 'mnist_shadow_'+str(ds)+'_'+str(j)+'.h5'\n",
        "    shadow.save(\"models/shadow_models/\"+model_name)\n",
        "    \n",
        "    \n",
        "    y_pred_member = shadow.predict(X_member_shadow)\n",
        "    y_pred_nonmember = shadow.predict(X_nonmember_shadow)\n",
        "    X_train_attack[j*2*ds:(j+1)*2*ds] = np.vstack((y_pred_member,y_pred_nonmember))\n",
        "    y_train_attack[j*2*ds:(2*j+1)*ds] = 1\n",
        "    labels_attack_train[j*2*ds:(j+1)*2*ds] = np.vstack((y_member_shadow,y_nonmember_shadow))\n",
        "\n",
        "X_attack_train_dict = {'X_train_attack':X_train_attack,'y_train_attack':y_train_attack,'labels_attack_train':labels_attack_train}\n",
        "fname = 'data/attack_train_data_'+str(ds)\n",
        "np.save(fname,X_attack_train_dict)"
      ]
    },
    {
      "cell_type": "code",
      "execution_count": 19,
      "metadata": {
        "id": "gf3dPmbO2oev"
      },
      "outputs": [],
      "source": [
        "C_test = [0.1,1,10]\n",
        "gam_test = [0.001,0.01,0.1]\n",
        "bestCgam = []"
      ]
    },
    {
      "cell_type": "code",
      "execution_count": 59,
      "metadata": {
        "id": "rOhMmPzQ2oew"
      },
      "outputs": [],
      "source": [
        "def getfilename(datatype,ds):\n",
        "    if datatype == 'train':\n",
        "        name = 'data/attack_'+datatype+'_data_'+str(ds)+'.npy'\n",
        "    elif datatype == 'test': \n",
        "        if use_condensed:\n",
        "            name = 'data/'+str(ipc)+'/attack_'+datatype+'_data_condensed.npy'\n",
        "        else:\n",
        "            name = 'data/attack_'+datatype+'_data.npy'\n",
        "    elif datatype == 'results':\n",
        "        if use_condensed:\n",
        "            name = 'results/attack_'+datatype+'_'+str(ds)+'_'+str(ipc)+'ipc_condensed.npy'\n",
        "        else:\n",
        "            name = 'results/attack_'+datatype+'_'+str(ds)+'.npy'\n",
        "    return name\n",
        "\n",
        "def getmodelname(classi,ds):\n",
        "    name = 'models/attack_models/sklearn/attack_model_'+str(ds)+'_class_'+str(classi)+'.p'\n",
        "    return name"
      ]
    },
    {
      "cell_type": "code",
      "execution_count": 60,
      "metadata": {
        "colab": {
          "base_uri": "https://localhost:8080/",
          "height": 413
        },
        "id": "mQscFyhX2oex",
        "outputId": "8a614473-17f0-4b55-c92f-200acb913fb8"
      },
      "outputs": [],
      "source": [
        "X_train_list = []\n",
        "y_train_list = []\n",
        "\n",
        "train_dict = np.load(getfilename('train',ds), allow_pickle=True).item()\n",
        "\n",
        "\n",
        "labels_attack_train = train_dict['labels_attack_train']\n",
        "X_train_attack = train_dict['X_train_attack']\n",
        "y_train_attack = train_dict['y_train_attack']\n",
        "# print(test_dict)\n",
        "\n",
        "np.random.seed(123)\n",
        "index = np.arange(X_train_attack.shape[0])\n",
        "np.random.shuffle(index)\n",
        "\n",
        "X_train_attack = X_train_attack[index]\n",
        "y_train_attack = y_train_attack[index]\n",
        "\n",
        "for i in range(num_classes):\n",
        "    ind_train = np.where(labels_attack_train[:,i]==1)[0]\n",
        "    X_train_list.append(X_train_attack[ind_train])\n",
        "    y_train_list.append(y_train_attack[ind_train])\n",
        "\n",
        "class_c_g = np.zeros((10,2))\n",
        "prec = []\n",
        "recall = []\n",
        "acc_classwise = []\n",
        "\n",
        "for i in range(num_classes):\n",
        "    x = X_train_list[i]\n",
        "    y = y_train_list[i]\n",
        "\n",
        "    # model = LogisticRegression(random_state=0, max_iter=500).fit(x, y)\n",
        "\n",
        "    # modelname = getmodelname(i,ds)\n",
        "    # with open( modelname, \"wb\" ) as fp:\n",
        "    #     pickle.dump(model, fp)\n",
        "    \n",
        "    nfold = 5\n",
        "    kf = KFold(n_splits=nfold, shuffle=True)\n",
        "    acc = np.zeros((3,3,nfold))\n",
        "    for ifold, ind in enumerate(kf.split(x)):\n",
        "        # Get the training data in the split\n",
        "        Itr,Its = ind\n",
        "        xtr = x[Itr,:]\n",
        "        ytr = y[Itr]\n",
        "        xts = x[Its,:]\n",
        "        yts = y[Its]\n",
        "        for ic,c in enumerate(C_test):\n",
        "            for ig,g in enumerate(gam_test):\n",
        "                svc = svm.SVC(probability=False,  kernel=\"rbf\", C=c, gamma=g,verbose=10)\n",
        "                svc.fit(xtr,ytr)\n",
        "                yhat_ts = svc.predict(xts)\n",
        "                acc[ic,ig,ifold] = np.mean(yhat_ts == yts)\n",
        "    \n",
        "    acc1 = np.mean(acc,axis=2)\n",
        "    ci = np.argmax(np.amax(acc1,axis=1))\n",
        "    gi = np.argmax(np.amax(acc1,axis=0))\n",
        "    class_c_g[i,0] = C_test[ci]\n",
        "    class_c_g[i,1] = gam_test[gi]\n",
        "    \n",
        "    #Now creating the actual attack classifier for class i and data_size ds\n",
        "    svc = svm.SVC(probability=False,  kernel=\"rbf\", C=C_test[ci], gamma=gam_test[gi], verbose=10)\n",
        "    svc.fit(x,y)\n",
        "    \n",
        "    \n",
        "    modelname = getmodelname(i,ds)\n",
        "    with open( modelname, \"wb\" ) as fp:\n",
        "        pickle.dump( [svc, C_test[ci], gam_test[gi]], fp)"
      ]
    },
    {
      "cell_type": "code",
      "execution_count": 76,
      "metadata": {
        "id": "JQQwBfK9-Zz9"
      },
      "outputs": [
        {
          "name": "stdout",
          "output_type": "stream",
          "text": [
            "For class 0:\n",
            "\t precision: 0.5144539614561028\n",
            "\t recall: 0.6406666666666667\n",
            "\t accuracy: 0.5116514690982776\n",
            "For class 1:\n",
            "\t precision: 0.0\n",
            "\t recall: 0.0\n",
            "\t accuracy: 0.4972246567338592\n",
            "For class 2:\n",
            "\t precision: 0.5021682567215958\n",
            "\t recall: 0.39986187845303867\n",
            "\t accuracy: 0.5105156037991859\n",
            "For class 3:\n",
            "\t precision: 0.5057471264367817\n",
            "\t recall: 0.26018396846254926\n",
            "\t accuracy: 0.5076472502440612\n",
            "For class 4:\n",
            "\t precision: 0.515625\n",
            "\t recall: 0.11141120864280891\n",
            "\t accuracy: 0.49726589200273413\n",
            "For class 5:\n",
            "\t precision: 0.5490196078431373\n",
            "\t recall: 0.041822255414488425\n",
            "\t accuracy: 0.5094130675526024\n",
            "For class 6:\n",
            "\t precision: 0.4949253731343284\n",
            "\t recall: 0.562415196743555\n",
            "\t accuracy: 0.4988235294117647\n",
            "For class 7:\n",
            "\t precision: 0.4915151515151515\n",
            "\t recall: 0.5165605095541401\n",
            "\t accuracy: 0.48567750241390406\n",
            "For class 8:\n",
            "\t precision: 0.5193798449612403\n",
            "\t recall: 0.13968033356497567\n",
            "\t accuracy: 0.504695652173913\n",
            "For class 9:\n",
            "\t precision: 0.4740484429065744\n",
            "\t recall: 0.09096945551128818\n",
            "\t accuracy: 0.4935064935064935\n",
            "For ds =  15000\n",
            "Attack Precision:  0.5026133462987723\n",
            "Attack Recall:  0.27566666666666667\n",
            "Attack Accuracy:  0.5014333333333333\n"
          ]
        },
        {
          "name": "stderr",
          "output_type": "stream",
          "text": [
            "/home/eshan.rg/.conda/envs/privacy/lib/python3.10/site-packages/sklearn/metrics/_classification.py:1334: UndefinedMetricWarning: Precision and F-score are ill-defined and being set to 0.0 due to no predicted samples. Use `zero_division` parameter to control this behavior.\n",
            "  _warn_prf(average, modifier, msg_start, len(result))\n"
          ]
        }
      ],
      "source": [
        "X_test_list = []\n",
        "y_test_list = []\n",
        "use_condensed = True\n",
        "ipc=10\n",
        "\n",
        "test_dict = np.load(getfilename('test',ds), allow_pickle=True).item()\n",
        "\n",
        "labels_attack_test = test_dict['labels_attack_test']\n",
        "X_test_attack = test_dict['X_attack_test']\n",
        "y_test_attack = test_dict['y_attack_test']\n",
        "\n",
        "for i in range(num_classes):\n",
        "    \n",
        "    ind_test = np.where(labels_attack_test[:,i]==1)[0]\n",
        "    X_test_list.append(X_test_attack[ind_test])\n",
        "    y_test_list.append(y_test_attack[ind_test])\n",
        "\n",
        "yhat_full = np.zeros(y_test_attack.shape[0])\n",
        "y_full = np.zeros(y_test_attack.shape[0])\n",
        "\n",
        "start = 0\n",
        "\n",
        "for i in range(num_classes):\n",
        "    \n",
        "    xtest = X_test_list[i]\n",
        "    ytest = y_test_list[i]\n",
        "    ntest = xtest.shape[0]\n",
        "\n",
        "    # modelname = getmodelname(i,ds)\n",
        "    # with open( modelname, \"rb\" ) as fp:\n",
        "    #     model = pickle.load(fp)\n",
        "\n",
        "    modelname = getmodelname(i,ds)\n",
        "    with open( modelname, \"rb\" ) as fp:\n",
        "        svc = pickle.load(fp)[0]\n",
        "\n",
        "    yhat_test = model.predict(xtest)\n",
        "    yhat_test[yhat_test>0.5] = 1\n",
        "    yhat_test[yhat_test<=0.5] = 0\n",
        "    acci = np.mean(yhat_test == ytest)\n",
        "    preci,reci,_,_= precision_recall_fscore_support(ytest,yhat_test,average='binary')\n",
        "    prec.append(preci)\n",
        "    recall.append(reci)\n",
        "    acc_classwise.append(acci)\n",
        "    y_full[start:(start+ntest)] = ytest\n",
        "    yhat_full[start:(start+ntest)] = yhat_test\n",
        "    print(f\"For class {i}:\")\n",
        "    print(f\"\\t precision: {preci}\")\n",
        "    print(f\"\\t recall: {reci}\")\n",
        "    print(f\"\\t accuracy: {acci}\")\n",
        "    start = start+ntest\n",
        "\n",
        "acctotal = np.mean(yhat_full == y_full)\n",
        "prectotal,recalltotal,_,_= precision_recall_fscore_support(y_full,yhat_full,average='binary')\n",
        "fname = getfilename('results',ds)\n",
        "dict_to_save = {'prectotal':prectotal,\n",
        "                'acctotal':acctotal,\n",
        "                'recalltotal':recalltotal,\n",
        "                'prec':prec,\n",
        "                'acc':acc_classwise,\n",
        "                'recall':recall,\n",
        "                'class_c_g':class_c_g}\n",
        "np.save(fname,dict_to_save)\n",
        "print('For ds = ',ds)\n",
        "print('Attack Precision: ',prectotal)\n",
        "print('Attack Recall: ',recalltotal)\n",
        "print('Attack Accuracy: ',acctotal)"
      ]
    }
  ],
  "metadata": {
    "accelerator": "GPU",
    "colab": {
      "provenance": []
    },
    "gpuClass": "standard",
    "kernelspec": {
      "display_name": "Python 3.10.8 ('privacy')",
      "language": "python",
      "name": "python3"
    },
    "language_info": {
      "codemirror_mode": {
        "name": "ipython",
        "version": 3
      },
      "file_extension": ".py",
      "mimetype": "text/x-python",
      "name": "python",
      "nbconvert_exporter": "python",
      "pygments_lexer": "ipython3",
      "version": "3.10.8"
    },
    "orig_nbformat": 4,
    "vscode": {
      "interpreter": {
        "hash": "83832cda7d17c0a1fb78519cb9b64376bce28ed3a22dfffda8da31b95f01eb9f"
      }
    }
  },
  "nbformat": 4,
  "nbformat_minor": 0
}
